{
 "cells": [
  {
   "cell_type": "markdown",
   "metadata": {},
   "source": [
    "# Various Routines to Harvest CRIM Metadata from Production Server\n",
    "\n",
    "### Just the basics here, allowing interaction with \"request\" as a way to retrieve individual Observations and Relationships"
   ]
  },
  {
   "cell_type": "code",
   "execution_count": 2,
   "metadata": {},
   "outputs": [],
   "source": [
    "import requests\n",
    "import pandas as pd"
   ]
  },
  {
   "cell_type": "markdown",
   "metadata": {},
   "source": [
    "# Variables\n",
    "Now we can set a variable, in this case the URL of a single Observation in CRIM "
   ]
  },
  {
   "cell_type": "code",
   "execution_count": 7,
   "metadata": {},
   "outputs": [],
   "source": [
    "Obs_url = \"https://crimproject.org/data/observations/2/\""
   ]
  },
  {
   "cell_type": "markdown",
   "metadata": {},
   "source": [
    "And if we call for that variable, it will tell us what it is:"
   ]
  },
  {
   "cell_type": "code",
   "execution_count": 8,
   "metadata": {},
   "outputs": [
    {
     "data": {
      "text/plain": [
       "'https://crimproject.org/data/observations/2/'"
      ]
     },
     "execution_count": 8,
     "metadata": {},
     "output_type": "execute_result"
    }
   ],
   "source": [
    "Obs_url"
   ]
  },
  {
   "cell_type": "markdown",
   "metadata": {},
   "source": [
    "# Requests\n",
    "Now defining a new variable, which itself is a \"get request\" for our first variable:"
   ]
  },
  {
   "cell_type": "code",
   "execution_count": 9,
   "metadata": {},
   "outputs": [],
   "source": [
    "response = requests.get(Obs_url)"
   ]
  },
  {
   "cell_type": "code",
   "execution_count": 10,
   "metadata": {},
   "outputs": [
    {
     "data": {
      "text/plain": [
       "requests.models.Response"
      ]
     },
     "execution_count": 10,
     "metadata": {},
     "output_type": "execute_result"
    }
   ],
   "source": [
    "type(response)"
   ]
  },
  {
   "cell_type": "markdown",
   "metadata": {},
   "source": [
    "And now the json representation of that variable:"
   ]
  },
  {
   "cell_type": "code",
   "execution_count": 12,
   "metadata": {},
   "outputs": [],
   "source": [
    "Obs_json = response.json()"
   ]
  },
  {
   "cell_type": "code",
   "execution_count": 13,
   "metadata": {},
   "outputs": [
    {
     "data": {
      "text/plain": [
       "{'url': 'https://crimproject.org/data/observations/2/',\n",
       " 'id': 2,\n",
       " 'observer': {'url': 'https://crimproject.org/data/people/CRIM_Person_1012/',\n",
       "  'name': 'Ian Lorenz'},\n",
       " 'piece': {'url': 'https://crimproject.org/data/pieces/CRIM_Mass_0009_3/',\n",
       "  'piece_id': 'CRIM_Mass_0009_3',\n",
       "  'full_title': 'Missa Tota pulchra es: Credo',\n",
       "  'roles': [],\n",
       "  'mei_links': ['https://crimproject.org/mei/CRIM_Mass_0009_3.mei'],\n",
       "  'pdf_links': ['https://crimproject.org/pdf/CRIM_Mass_0009_3.pdf']},\n",
       " 'ema': '1-6/1,1,1+3,1+3,3,3/@1-4,@1-3,@1-3+@1-4,@1-3+@1-3,@1-3,@1',\n",
       " 'musical_type': 'Fuga',\n",
       " 'relationships_as_model': [],\n",
       " 'relationships_as_derivative': [{'url': 'https://crimproject.org/data/relationships/1/',\n",
       "   'id': 1,\n",
       "   'observer': {'url': 'https://crimproject.org/data/people/CRIM_Person_1012/',\n",
       "    'name': 'Ian Lorenz'},\n",
       "   'model_observation': {'url': 'https://crimproject.org/data/observations/1/',\n",
       "    'id': 1,\n",
       "    'piece': {'url': 'https://crimproject.org/data/pieces/CRIM_Model_0011/',\n",
       "     'piece_id': 'CRIM_Model_0011',\n",
       "     'full_title': 'Tota pulchra es',\n",
       "     'mass': None}},\n",
       "   'derivative_observation': {'url': 'https://crimproject.org/data/observations/2/',\n",
       "    'id': 2,\n",
       "    'piece': {'url': 'https://crimproject.org/data/pieces/CRIM_Mass_0009_3/',\n",
       "     'piece_id': 'CRIM_Mass_0009_3',\n",
       "     'full_title': 'Missa Tota pulchra es: Credo',\n",
       "     'mass': 'CRIM_Mass_0009'}},\n",
       "   'relationship_type': 'Quotation'}],\n",
       " 'mt_cf': False,\n",
       " 'mt_cf_voices': '',\n",
       " 'mt_cf_dur': False,\n",
       " 'mt_cf_mel': False,\n",
       " 'mt_sog': False,\n",
       " 'mt_sog_voices': '',\n",
       " 'mt_sog_dur': False,\n",
       " 'mt_sog_mel': False,\n",
       " 'mt_sog_ostinato': False,\n",
       " 'mt_sog_periodic': False,\n",
       " 'mt_csog': False,\n",
       " 'mt_csog_voices': '',\n",
       " 'mt_csog_dur': False,\n",
       " 'mt_csog_mel': False,\n",
       " 'mt_cd': False,\n",
       " 'mt_cd_voices': '',\n",
       " 'mt_fg': True,\n",
       " 'mt_fg_voices': '[Tenor 1]\\r\\n[Tenor 3]',\n",
       " 'mt_fg_int': '4-',\n",
       " 'mt_fg_tint': 'B2',\n",
       " 'mt_fg_periodic': False,\n",
       " 'mt_fg_strict': False,\n",
       " 'mt_fg_flexed': False,\n",
       " 'mt_fg_sequential': False,\n",
       " 'mt_fg_inverted': False,\n",
       " 'mt_fg_retrograde': False,\n",
       " 'mt_pe': False,\n",
       " 'mt_pe_voices': '',\n",
       " 'mt_pe_int': '',\n",
       " 'mt_pe_tint': '',\n",
       " 'mt_pe_strict': False,\n",
       " 'mt_pe_flexed': False,\n",
       " 'mt_pe_flt': False,\n",
       " 'mt_pe_sequential': False,\n",
       " 'mt_pe_added': False,\n",
       " 'mt_pe_invertible': False,\n",
       " 'mt_id': False,\n",
       " 'mt_id_voices': '',\n",
       " 'mt_id_int': '',\n",
       " 'mt_id_tint': '',\n",
       " 'mt_id_strict': False,\n",
       " 'mt_id_flexed': False,\n",
       " 'mt_id_flt': False,\n",
       " 'mt_id_invertible': False,\n",
       " 'mt_nid': False,\n",
       " 'mt_nid_voices': '',\n",
       " 'mt_nid_int': '',\n",
       " 'mt_nid_tint': '',\n",
       " 'mt_nid_strict': False,\n",
       " 'mt_nid_flexed': False,\n",
       " 'mt_nid_flt': False,\n",
       " 'mt_nid_sequential': False,\n",
       " 'mt_nid_invertible': False,\n",
       " 'mt_hr': False,\n",
       " 'mt_hr_voices': '',\n",
       " 'mt_hr_simple': False,\n",
       " 'mt_hr_staggered': False,\n",
       " 'mt_hr_sequential': False,\n",
       " 'mt_hr_fauxbourdon': False,\n",
       " 'mt_cad': False,\n",
       " 'mt_cad_cantizans': '',\n",
       " 'mt_cad_tenorizans': '',\n",
       " 'mt_cad_type': '',\n",
       " 'mt_cad_tone': '',\n",
       " 'mt_cad_dtv': '',\n",
       " 'mt_cad_dti': '',\n",
       " 'mt_int': False,\n",
       " 'mt_int_voices': '',\n",
       " 'mt_int_p6': False,\n",
       " 'mt_int_p3': False,\n",
       " 'mt_int_c35': False,\n",
       " 'mt_int_c83': False,\n",
       " 'mt_int_c65': False,\n",
       " 'mt_fp': False,\n",
       " 'mt_fp_ir': False,\n",
       " 'mt_fp_range': '',\n",
       " 'mt_fp_comment': '',\n",
       " 'remarks': 'Makes up longer ID',\n",
       " 'created': '2017-06-19T19:22:54-04:00',\n",
       " 'updated': '2020-07-15T11:37:01.876533-04:00',\n",
       " 'curated': True}"
      ]
     },
     "execution_count": 13,
     "metadata": {},
     "output_type": "execute_result"
    }
   ],
   "source": [
    "Obs_json"
   ]
  },
  {
   "cell_type": "markdown",
   "metadata": {},
   "source": [
    "# Json, Dictionaries, Keys and Values\n",
    "Json is in fact an elaborate dictionary, with items nested in an order."
   ]
  },
  {
   "cell_type": "code",
   "execution_count": 14,
   "metadata": {},
   "outputs": [
    {
     "data": {
      "text/plain": [
       "dict"
      ]
     },
     "execution_count": 14,
     "metadata": {},
     "output_type": "execute_result"
    }
   ],
   "source": [
    "type(Obs_json)"
   ]
  },
  {
   "cell_type": "markdown",
   "metadata": {},
   "source": [
    "We can list the fixed \"keys\" for that JSON, which are in turned paired with \"values\"."
   ]
  },
  {
   "cell_type": "code",
   "execution_count": 15,
   "metadata": {},
   "outputs": [
    {
     "data": {
      "text/plain": [
       "dict_keys(['url', 'id', 'observer', 'piece', 'ema', 'musical_type', 'relationships_as_model', 'relationships_as_derivative', 'mt_cf', 'mt_cf_voices', 'mt_cf_dur', 'mt_cf_mel', 'mt_sog', 'mt_sog_voices', 'mt_sog_dur', 'mt_sog_mel', 'mt_sog_ostinato', 'mt_sog_periodic', 'mt_csog', 'mt_csog_voices', 'mt_csog_dur', 'mt_csog_mel', 'mt_cd', 'mt_cd_voices', 'mt_fg', 'mt_fg_voices', 'mt_fg_int', 'mt_fg_tint', 'mt_fg_periodic', 'mt_fg_strict', 'mt_fg_flexed', 'mt_fg_sequential', 'mt_fg_inverted', 'mt_fg_retrograde', 'mt_pe', 'mt_pe_voices', 'mt_pe_int', 'mt_pe_tint', 'mt_pe_strict', 'mt_pe_flexed', 'mt_pe_flt', 'mt_pe_sequential', 'mt_pe_added', 'mt_pe_invertible', 'mt_id', 'mt_id_voices', 'mt_id_int', 'mt_id_tint', 'mt_id_strict', 'mt_id_flexed', 'mt_id_flt', 'mt_id_invertible', 'mt_nid', 'mt_nid_voices', 'mt_nid_int', 'mt_nid_tint', 'mt_nid_strict', 'mt_nid_flexed', 'mt_nid_flt', 'mt_nid_sequential', 'mt_nid_invertible', 'mt_hr', 'mt_hr_voices', 'mt_hr_simple', 'mt_hr_staggered', 'mt_hr_sequential', 'mt_hr_fauxbourdon', 'mt_cad', 'mt_cad_cantizans', 'mt_cad_tenorizans', 'mt_cad_type', 'mt_cad_tone', 'mt_cad_dtv', 'mt_cad_dti', 'mt_int', 'mt_int_voices', 'mt_int_p6', 'mt_int_p3', 'mt_int_c35', 'mt_int_c83', 'mt_int_c65', 'mt_fp', 'mt_fp_ir', 'mt_fp_range', 'mt_fp_comment', 'remarks', 'created', 'updated', 'curated'])"
      ]
     },
     "execution_count": 15,
     "metadata": {},
     "output_type": "execute_result"
    }
   ],
   "source": [
    "Obs_json.keys()"
   ]
  },
  {
   "cell_type": "markdown",
   "metadata": {},
   "source": [
    "And here we are after the value of just ONE key"
   ]
  },
  {
   "cell_type": "code",
   "execution_count": 16,
   "metadata": {},
   "outputs": [],
   "source": [
    "Obs_ema = Obs_json[\"ema\"]"
   ]
  },
  {
   "cell_type": "code",
   "execution_count": 17,
   "metadata": {},
   "outputs": [
    {
     "data": {
      "text/plain": [
       "'1-6/1,1,1+3,1+3,3,3/@1-4,@1-3,@1-3+@1-4,@1-3+@1-3,@1-3,@1'"
      ]
     },
     "execution_count": 17,
     "metadata": {},
     "output_type": "execute_result"
    }
   ],
   "source": [
    "Obs_ema"
   ]
  },
  {
   "cell_type": "markdown",
   "metadata": {},
   "source": [
    "It has a data type:  string"
   ]
  },
  {
   "cell_type": "code",
   "execution_count": 18,
   "metadata": {},
   "outputs": [
    {
     "data": {
      "text/plain": [
       "str"
      ]
     },
     "execution_count": 18,
     "metadata": {},
     "output_type": "execute_result"
    }
   ],
   "source": [
    "type(Obs_ema)"
   ]
  },
  {
   "cell_type": "markdown",
   "metadata": {},
   "source": [
    "Now calling for various other values for other keys:"
   ]
  },
  {
   "cell_type": "code",
   "execution_count": 19,
   "metadata": {},
   "outputs": [
    {
     "data": {
      "text/plain": [
       "'Fuga'"
      ]
     },
     "execution_count": 19,
     "metadata": {},
     "output_type": "execute_result"
    }
   ],
   "source": [
    "Obs_json[\"musical_type\"]"
   ]
  },
  {
   "cell_type": "code",
   "execution_count": 20,
   "metadata": {},
   "outputs": [],
   "source": [
    "Obs_mt = Obs_json[\"musical_type\"]"
   ]
  },
  {
   "cell_type": "code",
   "execution_count": 21,
   "metadata": {},
   "outputs": [
    {
     "data": {
      "text/plain": [
       "'Fuga'"
      ]
     },
     "execution_count": 21,
     "metadata": {},
     "output_type": "execute_result"
    }
   ],
   "source": [
    "Obs_mt"
   ]
  },
  {
   "cell_type": "markdown",
   "metadata": {},
   "source": [
    "The piece key actually is a dictionary within a dictionary, so it has LOTS of keys and values within it."
   ]
  },
  {
   "cell_type": "code",
   "execution_count": 22,
   "metadata": {},
   "outputs": [],
   "source": [
    "Obs_piece = Obs_json[\"piece\"]"
   ]
  },
  {
   "cell_type": "code",
   "execution_count": 24,
   "metadata": {},
   "outputs": [
    {
     "data": {
      "text/plain": [
       "{'url': 'https://crimproject.org/data/pieces/CRIM_Mass_0009_3/',\n",
       " 'piece_id': 'CRIM_Mass_0009_3',\n",
       " 'full_title': 'Missa Tota pulchra es: Credo',\n",
       " 'roles': [],\n",
       " 'mei_links': ['https://crimproject.org/mei/CRIM_Mass_0009_3.mei'],\n",
       " 'pdf_links': ['https://crimproject.org/pdf/CRIM_Mass_0009_3.pdf']}"
      ]
     },
     "execution_count": 24,
     "metadata": {},
     "output_type": "execute_result"
    }
   ],
   "source": [
    "Obs_piece"
   ]
  },
  {
   "cell_type": "markdown",
   "metadata": {},
   "source": [
    "And to interact with the items there, we need to call for a key *within* that key."
   ]
  },
  {
   "cell_type": "code",
   "execution_count": 25,
   "metadata": {},
   "outputs": [],
   "source": [
    "Obs_mei = Obs_piece[\"mei_links\"]"
   ]
  },
  {
   "cell_type": "code",
   "execution_count": 26,
   "metadata": {},
   "outputs": [
    {
     "data": {
      "text/plain": [
       "['https://crimproject.org/mei/CRIM_Mass_0009_3.mei']"
      ]
     },
     "execution_count": 26,
     "metadata": {},
     "output_type": "execute_result"
    }
   ],
   "source": [
    "Obs_mei"
   ]
  },
  {
   "cell_type": "markdown",
   "metadata": {},
   "source": [
    "Various ways of calling for items according to their position.  Note:  Zero-based indexing!"
   ]
  },
  {
   "cell_type": "code",
   "execution_count": 27,
   "metadata": {},
   "outputs": [
    {
     "data": {
      "text/plain": [
       "1"
      ]
     },
     "execution_count": 27,
     "metadata": {},
     "output_type": "execute_result"
    }
   ],
   "source": [
    "len(Obs_mei)"
   ]
  },
  {
   "cell_type": "code",
   "execution_count": 28,
   "metadata": {},
   "outputs": [
    {
     "data": {
      "text/plain": [
       "'https://crimproject.org/mei/CRIM_Mass_0009_3.mei'"
      ]
     },
     "execution_count": 28,
     "metadata": {},
     "output_type": "execute_result"
    }
   ],
   "source": [
    "Obs_mei[0]"
   ]
  },
  {
   "cell_type": "code",
   "execution_count": 29,
   "metadata": {},
   "outputs": [
    {
     "data": {
      "text/plain": [
       "'https://crimproject.org/mei/CRIM_Mass_0009_3.mei'"
      ]
     },
     "execution_count": 29,
     "metadata": {},
     "output_type": "execute_result"
    }
   ],
   "source": [
    "Obs_json[\"piece\"][\"mei_links\"][0]"
   ]
  },
  {
   "cell_type": "code",
   "execution_count": 31,
   "metadata": {},
   "outputs": [
    {
     "data": {
      "text/plain": [
       "'1-6/1,1,1+3,1+3,3,3/@1-4,@1-3,@1-3+@1-4,@1-3+@1-3,@1-3,@1'"
      ]
     },
     "execution_count": 31,
     "metadata": {},
     "output_type": "execute_result"
    }
   ],
   "source": [
    "Obs_json[\"ema\"]"
   ]
  },
  {
   "cell_type": "code",
   "execution_count": 32,
   "metadata": {},
   "outputs": [],
   "source": [
    "def get_ema_for_observation_id(obs_id):\n",
    "    # get Obs_url\n",
    "    url = \"https://crimproject.org/data/observations/{}/\".format(obs_id)\n",
    "    return url"
   ]
  },
  {
   "cell_type": "code",
   "execution_count": 33,
   "metadata": {},
   "outputs": [],
   "source": [
    "def get_ema_for_observation_id(obs_id):\n",
    "    # get Obs_ema\n",
    "    my_ema_mei_dictionary = dict()\n",
    "    url = \"https://crimproject.org/data/observations/{}/\".format(obs_id)\n",
    "    response = requests.get(url)\n",
    "    Obs_json = response.json()\n",
    "    \n",
    "    # Obs_ema = Obs_json[\"ema\"]\n",
    "    \n",
    "    my_ema_mei_dictionary[\"id\"]=Obs_json[\"id\"]\n",
    "    my_ema_mei_dictionary[\"musical type\"]=Obs_json[\"musical_type\"]\n",
    "    my_ema_mei_dictionary[\"int\"]=Obs_json[\"mt_fg_int\"]\n",
    "    my_ema_mei_dictionary[\"tint\"]=Obs_json[\"mt_fg_tint\"]\n",
    "    my_ema_mei_dictionary[\"ema\"]=Obs_json[\"ema\"]\n",
    "    my_ema_mei_dictionary[\"mei\"]=Obs_json[\"piece\"][\"mei_links\"][0]\n",
    "    my_ema_mei_dictionary[\"pdf\"]=Obs_json[\"piece\"][\"pdf_links\"][0]\n",
    "   \n",
    "    \n",
    "    # Obs_piece = Obs_json[\"piece\"]\n",
    "    # Obs_mei = Obs_piece[\"mei_links\"]\n",
    "    \n",
    "    print(f'Got: {obs_id}')\n",
    "    \n",
    "    # return {\"ema\":Obs_ema,\"mei\":Obs_mei}\n",
    "    \n",
    "    return my_ema_mei_dictionary\n"
   ]
  },
  {
   "cell_type": "markdown",
   "metadata": {},
   "source": [
    "Now we get a _particular_ observation."
   ]
  },
  {
   "cell_type": "code",
   "execution_count": 34,
   "metadata": {},
   "outputs": [
    {
     "name": "stdout",
     "output_type": "stream",
     "text": [
      "Got: 20\n"
     ]
    },
    {
     "data": {
      "text/plain": [
       "{'id': 20,\n",
       " 'musical type': 'Fuga',\n",
       " 'int': '1+',\n",
       " 'tint': 'M1',\n",
       " 'ema': '7-8/2-3,2-3/@3-4.5+@2-4,@1+@1',\n",
       " 'mei': 'https://crimproject.org/mei/CRIM_Mass_0015_2.mei',\n",
       " 'pdf': 'https://crimproject.org/pdf/CRIM_Mass_0015_2.pdf'}"
      ]
     },
     "execution_count": 34,
     "metadata": {},
     "output_type": "execute_result"
    }
   ],
   "source": [
    "get_ema_for_observation_id(20)"
   ]
  },
  {
   "cell_type": "markdown",
   "metadata": {},
   "source": [
    "A new variable that contains the \"get_ema\" routine.  We will pass a series of numbers to it."
   ]
  },
  {
   "cell_type": "code",
   "execution_count": 35,
   "metadata": {},
   "outputs": [
    {
     "name": "stdout",
     "output_type": "stream",
     "text": [
      "Got: 20\n"
     ]
    }
   ],
   "source": [
    "output = get_ema_for_observation_id(20)"
   ]
  },
  {
   "cell_type": "code",
   "execution_count": 36,
   "metadata": {},
   "outputs": [],
   "source": [
    "# this holds the output as a LIST of DICTS\n",
    "obs_data_list = []"
   ]
  },
  {
   "cell_type": "code",
   "execution_count": 37,
   "metadata": {},
   "outputs": [],
   "source": [
    "# this is the list of Observation IDs to call\n",
    "\n",
    "obs_call_list = [1,3,5,17,21]"
   ]
  },
  {
   "cell_type": "code",
   "execution_count": 38,
   "metadata": {},
   "outputs": [
    {
     "name": "stdout",
     "output_type": "stream",
     "text": [
      "Got: 1\n",
      "Got: 2\n",
      "Got: 3\n",
      "Got: 4\n",
      "Got: 5\n",
      "Got: 6\n",
      "Got: 7\n",
      "Got: 8\n",
      "Got: 9\n",
      "Got: 10\n"
     ]
    }
   ],
   "source": [
    "# this is the LOOP that runs through the list aboe\n",
    "# for observ in obs_call_list:\n",
    "\n",
    "for observ in range(1,11):\n",
    "    call_list_output = get_ema_for_observation_id(observ)\n",
    "    \n",
    "    # the print command simply puts the output in the notebook terminal.  \n",
    "    #Later we will put it in the List of Dicts.\n",
    "    \n",
    "   #  print(call_list_output)  The APPEND function adds one item after each loop.\n",
    "    obs_data_list.append(call_list_output)\n",
    "    "
   ]
  },
  {
   "cell_type": "code",
   "execution_count": 39,
   "metadata": {},
   "outputs": [],
   "source": [
    "# list includes APPEND function that will allow us to add one item after each loop.\n",
    "#  EX blank_list = [1,5,6]  (note that these are in square brackets as LIST)\n",
    "# blank_list.append(89)\n",
    "# range would in parenths as in:  range(1,11)\n",
    "# here we make a LIST object that contains the Range.  \n",
    "# This allows it to iterate over the range\n",
    "# since the range could be HUGE  We can ONLY append a number to a LIST!\n",
    "\n",
    "Obs_range = list(range(1,11))\n"
   ]
  },
  {
   "cell_type": "markdown",
   "metadata": {},
   "source": [
    "Now we call up the list of observations we created above, after appending one at a time to the \"[]\""
   ]
  },
  {
   "cell_type": "code",
   "execution_count": 40,
   "metadata": {},
   "outputs": [
    {
     "data": {
      "text/plain": [
       "[{'id': 1,\n",
       "  'musical type': 'Fuga',\n",
       "  'int': '4-',\n",
       "  'tint': 'B2',\n",
       "  'ema': '1-6/1,1,1-2,1-2,2,2/@1,@1-3,@1-3+@1,@1-3+@1-3,@1-3,@1',\n",
       "  'mei': 'https://crimproject.org/mei/CRIM_Model_0011.mei',\n",
       "  'pdf': 'https://crimproject.org/pdf/CRIM_Model_0011.pdf'},\n",
       " {'id': 2,\n",
       "  'musical type': 'Fuga',\n",
       "  'int': '4-',\n",
       "  'tint': 'B2',\n",
       "  'ema': '1-6/1,1,1+3,1+3,3,3/@1-4,@1-3,@1-3+@1-4,@1-3+@1-3,@1-3,@1',\n",
       "  'mei': 'https://crimproject.org/mei/CRIM_Mass_0009_3.mei',\n",
       "  'pdf': 'https://crimproject.org/pdf/CRIM_Mass_0009_3.pdf'},\n",
       " {'id': 3,\n",
       "  'musical type': 'Fuga',\n",
       "  'int': '8-',\n",
       "  'tint': 'B2',\n",
       "  'ema': '5-9/1,1,1-2,2,2/@3,@1-4,@1-2+@4,@1-4,@1-2',\n",
       "  'mei': 'https://crimproject.org/mei/CRIM_Model_0011.mei',\n",
       "  'pdf': 'https://crimproject.org/pdf/CRIM_Model_0011.pdf'},\n",
       " {'id': 4,\n",
       "  'musical type': 'Fuga',\n",
       "  'int': '5-',\n",
       "  'tint': 'B1',\n",
       "  'ema': '5-8/1,1+4,1+4,4/@3,@1-4+@4,@1+@1-3,@1',\n",
       "  'mei': 'https://crimproject.org/mei/CRIM_Mass_0009_3.mei',\n",
       "  'pdf': 'https://crimproject.org/pdf/CRIM_Mass_0009_3.pdf'},\n",
       " {'id': 5,\n",
       "  'musical type': 'Fuga',\n",
       "  'int': '8-',\n",
       "  'tint': 'B2',\n",
       "  'ema': '5-9,14-18/1,1,1-2,1-2,1-2,3,3,3-4,3-4,3-4/@3,@1-4,@1-4+@4,@1-4+@1-4,@1-3+@1-2,@3,@1-4,@1-4+@4,@1-4+@1-4,@1-3+@1-2',\n",
       "  'mei': 'https://crimproject.org/mei/CRIM_Model_0011.mei',\n",
       "  'pdf': 'https://crimproject.org/pdf/CRIM_Model_0011.pdf'},\n",
       " {'id': 6,\n",
       "  'musical type': 'Periodic entry',\n",
       "  'int': '',\n",
       "  'tint': '',\n",
       "  'ema': '9-12/3-4,2-4,2,2/@4+@1-4,@4+@1-4+@1-3,@1-3,@1',\n",
       "  'mei': 'https://crimproject.org/mei/CRIM_Mass_0009_5.mei',\n",
       "  'pdf': 'https://crimproject.org/pdf/CRIM_Mass_0009_5.pdf'},\n",
       " {'id': 7,\n",
       "  'musical type': 'Fuga',\n",
       "  'int': '8-',\n",
       "  'tint': 'M9',\n",
       "  'ema': '5-9/1,1,1-2,2,2/@3,@1-4,@1-2+@4,@1-4,@1-2',\n",
       "  'mei': 'https://crimproject.org/mei/CRIM_Model_0011.mei',\n",
       "  'pdf': 'https://crimproject.org/pdf/CRIM_Model_0011.pdf'},\n",
       " {'id': 8,\n",
       "  'musical type': 'Fuga',\n",
       "  'int': '5-',\n",
       "  'tint': 'M5',\n",
       "  'ema': '5-10/1,1+4,1+4,1+4,1+4,4/@3,@1-4+@4,@1-4.5+@1-3,@1-4.5+@1-4,@1+@1-3,@1',\n",
       "  'mei': 'https://crimproject.org/mei/CRIM_Mass_0009_3.mei',\n",
       "  'pdf': 'https://crimproject.org/pdf/CRIM_Mass_0009_3.pdf'},\n",
       " {'id': 9,\n",
       "  'musical type': 'Soggetto',\n",
       "  'int': '',\n",
       "  'tint': '',\n",
       "  'ema': '1-38/6,6,6,6,6,6,6,6,6,6,6,6,6,6,6,6,6,6,6,6,6,6,6,6,6,6,6,6,6,6,6,6,6,6,6,6,6,6/@1,@1,@1,@1-3,@1,@1,@all,@1-4,@1-3,@1-4,@1,@1-4,@1-3,@1-4,@1-3,@1,@1,@1,@1-3,@1,@1,@all,@1-4,@1-3,@1-4.5,@1,@1-4,@1-3,@1-4,@1-3,@1,@1,@1,@1-3,@1,@1,@1,@1',\n",
       "  'mei': 'https://crimproject.org/mei/CRIM_Model_0018_a4_cantiB.mei',\n",
       "  'pdf': 'https://crimproject.org/pdf/CRIM_Model_0018.pdf'},\n",
       " {'id': 10,\n",
       "  'musical type': 'Cantus firmus',\n",
       "  'int': '',\n",
       "  'tint': '',\n",
       "  'ema': '1-41/5,5,5,5,5,5,5,5,5,5,5,5,5,5,5,5,5,5,5,5,5,5,5,5,5,5,5,5,5,5,5,5,5,5,5,5,5,5,5,5,5/@1,@1,@1,@1-3,@1,@1,@all,@1-4,@1-3,@1-4.5,@1,@1-4,@1-3,@1-4.5,@1-3,@all,@all,@1-3,@1,@1,@1-3,@1,@1,@all,@1-4,@1-3,@1-4.5,@1,@1-4,@1-3,@1-4.5,@1-3,@all,@all,@1,@1,@1,@1-3,@1,@1,@1',\n",
       "  'mei': 'https://crimproject.org/mei/CRIM_Mass_0017_4.mei',\n",
       "  'pdf': 'https://crimproject.org/pdf/CRIM_Mass_0017_4.pdf'}]"
      ]
     },
     "execution_count": 40,
     "metadata": {},
     "output_type": "execute_result"
    }
   ],
   "source": [
    "obs_data_list"
   ]
  },
  {
   "cell_type": "markdown",
   "metadata": {},
   "source": [
    "# Pandas as Data Frame or CSV"
   ]
  },
  {
   "cell_type": "code",
   "execution_count": 41,
   "metadata": {},
   "outputs": [
    {
     "name": "stderr",
     "output_type": "stream",
     "text": [
      "/Users/rfreedma/opt/anaconda3/lib/python3.7/site-packages/ipykernel_launcher.py:1: FutureWarning: The signature of `Series.to_csv` was aligned to that of `DataFrame.to_csv`, and argument 'header' will change its default value from False to True: please pass an explicit value to suppress this warning.\n",
      "  \"\"\"Entry point for launching an IPython kernel.\n"
     ]
    }
   ],
   "source": [
    "pd.Series(obs_data_list).to_csv(\"obs_data_list.csv\")"
   ]
  },
  {
   "cell_type": "code",
   "execution_count": 42,
   "metadata": {},
   "outputs": [],
   "source": [
    "# Pandas DataFrame interprets the series of items in each Dict \n",
    "# as separate 'cells' (a tab structure)\n",
    "DF_output = pd.DataFrame(obs_data_list)"
   ]
  },
  {
   "cell_type": "code",
   "execution_count": 43,
   "metadata": {},
   "outputs": [
    {
     "data": {
      "text/html": [
       "<div>\n",
       "<style scoped>\n",
       "    .dataframe tbody tr th:only-of-type {\n",
       "        vertical-align: middle;\n",
       "    }\n",
       "\n",
       "    .dataframe tbody tr th {\n",
       "        vertical-align: top;\n",
       "    }\n",
       "\n",
       "    .dataframe thead th {\n",
       "        text-align: right;\n",
       "    }\n",
       "</style>\n",
       "<table border=\"1\" class=\"dataframe\">\n",
       "  <thead>\n",
       "    <tr style=\"text-align: right;\">\n",
       "      <th></th>\n",
       "      <th>id</th>\n",
       "      <th>musical type</th>\n",
       "      <th>int</th>\n",
       "      <th>tint</th>\n",
       "      <th>ema</th>\n",
       "      <th>mei</th>\n",
       "      <th>pdf</th>\n",
       "    </tr>\n",
       "  </thead>\n",
       "  <tbody>\n",
       "    <tr>\n",
       "      <td>0</td>\n",
       "      <td>1</td>\n",
       "      <td>Fuga</td>\n",
       "      <td>4-</td>\n",
       "      <td>B2</td>\n",
       "      <td>1-6/1,1,1-2,1-2,2,2/@1,@1-3,@1-3+@1,@1-3+@1-3,...</td>\n",
       "      <td>https://crimproject.org/mei/CRIM_Model_0011.mei</td>\n",
       "      <td>https://crimproject.org/pdf/CRIM_Model_0011.pdf</td>\n",
       "    </tr>\n",
       "    <tr>\n",
       "      <td>1</td>\n",
       "      <td>2</td>\n",
       "      <td>Fuga</td>\n",
       "      <td>4-</td>\n",
       "      <td>B2</td>\n",
       "      <td>1-6/1,1,1+3,1+3,3,3/@1-4,@1-3,@1-3+@1-4,@1-3+@...</td>\n",
       "      <td>https://crimproject.org/mei/CRIM_Mass_0009_3.mei</td>\n",
       "      <td>https://crimproject.org/pdf/CRIM_Mass_0009_3.pdf</td>\n",
       "    </tr>\n",
       "    <tr>\n",
       "      <td>2</td>\n",
       "      <td>3</td>\n",
       "      <td>Fuga</td>\n",
       "      <td>8-</td>\n",
       "      <td>B2</td>\n",
       "      <td>5-9/1,1,1-2,2,2/@3,@1-4,@1-2+@4,@1-4,@1-2</td>\n",
       "      <td>https://crimproject.org/mei/CRIM_Model_0011.mei</td>\n",
       "      <td>https://crimproject.org/pdf/CRIM_Model_0011.pdf</td>\n",
       "    </tr>\n",
       "    <tr>\n",
       "      <td>3</td>\n",
       "      <td>4</td>\n",
       "      <td>Fuga</td>\n",
       "      <td>5-</td>\n",
       "      <td>B1</td>\n",
       "      <td>5-8/1,1+4,1+4,4/@3,@1-4+@4,@1+@1-3,@1</td>\n",
       "      <td>https://crimproject.org/mei/CRIM_Mass_0009_3.mei</td>\n",
       "      <td>https://crimproject.org/pdf/CRIM_Mass_0009_3.pdf</td>\n",
       "    </tr>\n",
       "    <tr>\n",
       "      <td>4</td>\n",
       "      <td>5</td>\n",
       "      <td>Fuga</td>\n",
       "      <td>8-</td>\n",
       "      <td>B2</td>\n",
       "      <td>5-9,14-18/1,1,1-2,1-2,1-2,3,3,3-4,3-4,3-4/@3,@...</td>\n",
       "      <td>https://crimproject.org/mei/CRIM_Model_0011.mei</td>\n",
       "      <td>https://crimproject.org/pdf/CRIM_Model_0011.pdf</td>\n",
       "    </tr>\n",
       "    <tr>\n",
       "      <td>5</td>\n",
       "      <td>6</td>\n",
       "      <td>Periodic entry</td>\n",
       "      <td></td>\n",
       "      <td></td>\n",
       "      <td>9-12/3-4,2-4,2,2/@4+@1-4,@4+@1-4+@1-3,@1-3,@1</td>\n",
       "      <td>https://crimproject.org/mei/CRIM_Mass_0009_5.mei</td>\n",
       "      <td>https://crimproject.org/pdf/CRIM_Mass_0009_5.pdf</td>\n",
       "    </tr>\n",
       "    <tr>\n",
       "      <td>6</td>\n",
       "      <td>7</td>\n",
       "      <td>Fuga</td>\n",
       "      <td>8-</td>\n",
       "      <td>M9</td>\n",
       "      <td>5-9/1,1,1-2,2,2/@3,@1-4,@1-2+@4,@1-4,@1-2</td>\n",
       "      <td>https://crimproject.org/mei/CRIM_Model_0011.mei</td>\n",
       "      <td>https://crimproject.org/pdf/CRIM_Model_0011.pdf</td>\n",
       "    </tr>\n",
       "    <tr>\n",
       "      <td>7</td>\n",
       "      <td>8</td>\n",
       "      <td>Fuga</td>\n",
       "      <td>5-</td>\n",
       "      <td>M5</td>\n",
       "      <td>5-10/1,1+4,1+4,1+4,1+4,4/@3,@1-4+@4,@1-4.5+@1-...</td>\n",
       "      <td>https://crimproject.org/mei/CRIM_Mass_0009_3.mei</td>\n",
       "      <td>https://crimproject.org/pdf/CRIM_Mass_0009_3.pdf</td>\n",
       "    </tr>\n",
       "    <tr>\n",
       "      <td>8</td>\n",
       "      <td>9</td>\n",
       "      <td>Soggetto</td>\n",
       "      <td></td>\n",
       "      <td></td>\n",
       "      <td>1-38/6,6,6,6,6,6,6,6,6,6,6,6,6,6,6,6,6,6,6,6,6...</td>\n",
       "      <td>https://crimproject.org/mei/CRIM_Model_0018_a4...</td>\n",
       "      <td>https://crimproject.org/pdf/CRIM_Model_0018.pdf</td>\n",
       "    </tr>\n",
       "    <tr>\n",
       "      <td>9</td>\n",
       "      <td>10</td>\n",
       "      <td>Cantus firmus</td>\n",
       "      <td></td>\n",
       "      <td></td>\n",
       "      <td>1-41/5,5,5,5,5,5,5,5,5,5,5,5,5,5,5,5,5,5,5,5,5...</td>\n",
       "      <td>https://crimproject.org/mei/CRIM_Mass_0017_4.mei</td>\n",
       "      <td>https://crimproject.org/pdf/CRIM_Mass_0017_4.pdf</td>\n",
       "    </tr>\n",
       "  </tbody>\n",
       "</table>\n",
       "</div>"
      ],
      "text/plain": [
       "   id    musical type int tint  \\\n",
       "0   1            Fuga  4-   B2   \n",
       "1   2            Fuga  4-   B2   \n",
       "2   3            Fuga  8-   B2   \n",
       "3   4            Fuga  5-   B1   \n",
       "4   5            Fuga  8-   B2   \n",
       "5   6  Periodic entry            \n",
       "6   7            Fuga  8-   M9   \n",
       "7   8            Fuga  5-   M5   \n",
       "8   9        Soggetto            \n",
       "9  10   Cantus firmus            \n",
       "\n",
       "                                                 ema  \\\n",
       "0  1-6/1,1,1-2,1-2,2,2/@1,@1-3,@1-3+@1,@1-3+@1-3,...   \n",
       "1  1-6/1,1,1+3,1+3,3,3/@1-4,@1-3,@1-3+@1-4,@1-3+@...   \n",
       "2          5-9/1,1,1-2,2,2/@3,@1-4,@1-2+@4,@1-4,@1-2   \n",
       "3              5-8/1,1+4,1+4,4/@3,@1-4+@4,@1+@1-3,@1   \n",
       "4  5-9,14-18/1,1,1-2,1-2,1-2,3,3,3-4,3-4,3-4/@3,@...   \n",
       "5      9-12/3-4,2-4,2,2/@4+@1-4,@4+@1-4+@1-3,@1-3,@1   \n",
       "6          5-9/1,1,1-2,2,2/@3,@1-4,@1-2+@4,@1-4,@1-2   \n",
       "7  5-10/1,1+4,1+4,1+4,1+4,4/@3,@1-4+@4,@1-4.5+@1-...   \n",
       "8  1-38/6,6,6,6,6,6,6,6,6,6,6,6,6,6,6,6,6,6,6,6,6...   \n",
       "9  1-41/5,5,5,5,5,5,5,5,5,5,5,5,5,5,5,5,5,5,5,5,5...   \n",
       "\n",
       "                                                 mei  \\\n",
       "0    https://crimproject.org/mei/CRIM_Model_0011.mei   \n",
       "1   https://crimproject.org/mei/CRIM_Mass_0009_3.mei   \n",
       "2    https://crimproject.org/mei/CRIM_Model_0011.mei   \n",
       "3   https://crimproject.org/mei/CRIM_Mass_0009_3.mei   \n",
       "4    https://crimproject.org/mei/CRIM_Model_0011.mei   \n",
       "5   https://crimproject.org/mei/CRIM_Mass_0009_5.mei   \n",
       "6    https://crimproject.org/mei/CRIM_Model_0011.mei   \n",
       "7   https://crimproject.org/mei/CRIM_Mass_0009_3.mei   \n",
       "8  https://crimproject.org/mei/CRIM_Model_0018_a4...   \n",
       "9   https://crimproject.org/mei/CRIM_Mass_0017_4.mei   \n",
       "\n",
       "                                                pdf  \n",
       "0   https://crimproject.org/pdf/CRIM_Model_0011.pdf  \n",
       "1  https://crimproject.org/pdf/CRIM_Mass_0009_3.pdf  \n",
       "2   https://crimproject.org/pdf/CRIM_Model_0011.pdf  \n",
       "3  https://crimproject.org/pdf/CRIM_Mass_0009_3.pdf  \n",
       "4   https://crimproject.org/pdf/CRIM_Model_0011.pdf  \n",
       "5  https://crimproject.org/pdf/CRIM_Mass_0009_5.pdf  \n",
       "6   https://crimproject.org/pdf/CRIM_Model_0011.pdf  \n",
       "7  https://crimproject.org/pdf/CRIM_Mass_0009_3.pdf  \n",
       "8   https://crimproject.org/pdf/CRIM_Model_0018.pdf  \n",
       "9  https://crimproject.org/pdf/CRIM_Mass_0017_4.pdf  "
      ]
     },
     "execution_count": 43,
     "metadata": {},
     "output_type": "execute_result"
    }
   ],
   "source": [
    "DF_output"
   ]
  },
  {
   "cell_type": "code",
   "execution_count": 44,
   "metadata": {},
   "outputs": [],
   "source": [
    "DF_output.to_csv(\"obs_data_list.csv\")"
   ]
  },
  {
   "cell_type": "code",
   "execution_count": 45,
   "metadata": {},
   "outputs": [],
   "source": [
    "#  two \"==\" means check for equality\n",
    "# for 'contains' use str.contains(\"letter\")\n",
    "# can also use regex in this (for EMA range)\n",
    "# Filter_by_Type = (DF_output[\"musical type\"]==\"Fuga\") & (DF_output[\"id\"]==8)\n",
    "Filter_by_Type = DF_output[\"musical type\"].str.contains(\"Fuga\")\n",
    "\n",
    "# "
   ]
  },
  {
   "cell_type": "code",
   "execution_count": 46,
   "metadata": {},
   "outputs": [
    {
     "data": {
      "text/html": [
       "<div>\n",
       "<style scoped>\n",
       "    .dataframe tbody tr th:only-of-type {\n",
       "        vertical-align: middle;\n",
       "    }\n",
       "\n",
       "    .dataframe tbody tr th {\n",
       "        vertical-align: top;\n",
       "    }\n",
       "\n",
       "    .dataframe thead th {\n",
       "        text-align: right;\n",
       "    }\n",
       "</style>\n",
       "<table border=\"1\" class=\"dataframe\">\n",
       "  <thead>\n",
       "    <tr style=\"text-align: right;\">\n",
       "      <th></th>\n",
       "      <th>id</th>\n",
       "      <th>musical type</th>\n",
       "      <th>int</th>\n",
       "      <th>tint</th>\n",
       "      <th>ema</th>\n",
       "      <th>mei</th>\n",
       "      <th>pdf</th>\n",
       "    </tr>\n",
       "  </thead>\n",
       "  <tbody>\n",
       "    <tr>\n",
       "      <td>0</td>\n",
       "      <td>1</td>\n",
       "      <td>Fuga</td>\n",
       "      <td>4-</td>\n",
       "      <td>B2</td>\n",
       "      <td>1-6/1,1,1-2,1-2,2,2/@1,@1-3,@1-3+@1,@1-3+@1-3,...</td>\n",
       "      <td>https://crimproject.org/mei/CRIM_Model_0011.mei</td>\n",
       "      <td>https://crimproject.org/pdf/CRIM_Model_0011.pdf</td>\n",
       "    </tr>\n",
       "    <tr>\n",
       "      <td>1</td>\n",
       "      <td>2</td>\n",
       "      <td>Fuga</td>\n",
       "      <td>4-</td>\n",
       "      <td>B2</td>\n",
       "      <td>1-6/1,1,1+3,1+3,3,3/@1-4,@1-3,@1-3+@1-4,@1-3+@...</td>\n",
       "      <td>https://crimproject.org/mei/CRIM_Mass_0009_3.mei</td>\n",
       "      <td>https://crimproject.org/pdf/CRIM_Mass_0009_3.pdf</td>\n",
       "    </tr>\n",
       "    <tr>\n",
       "      <td>2</td>\n",
       "      <td>3</td>\n",
       "      <td>Fuga</td>\n",
       "      <td>8-</td>\n",
       "      <td>B2</td>\n",
       "      <td>5-9/1,1,1-2,2,2/@3,@1-4,@1-2+@4,@1-4,@1-2</td>\n",
       "      <td>https://crimproject.org/mei/CRIM_Model_0011.mei</td>\n",
       "      <td>https://crimproject.org/pdf/CRIM_Model_0011.pdf</td>\n",
       "    </tr>\n",
       "    <tr>\n",
       "      <td>3</td>\n",
       "      <td>4</td>\n",
       "      <td>Fuga</td>\n",
       "      <td>5-</td>\n",
       "      <td>B1</td>\n",
       "      <td>5-8/1,1+4,1+4,4/@3,@1-4+@4,@1+@1-3,@1</td>\n",
       "      <td>https://crimproject.org/mei/CRIM_Mass_0009_3.mei</td>\n",
       "      <td>https://crimproject.org/pdf/CRIM_Mass_0009_3.pdf</td>\n",
       "    </tr>\n",
       "    <tr>\n",
       "      <td>4</td>\n",
       "      <td>5</td>\n",
       "      <td>Fuga</td>\n",
       "      <td>8-</td>\n",
       "      <td>B2</td>\n",
       "      <td>5-9,14-18/1,1,1-2,1-2,1-2,3,3,3-4,3-4,3-4/@3,@...</td>\n",
       "      <td>https://crimproject.org/mei/CRIM_Model_0011.mei</td>\n",
       "      <td>https://crimproject.org/pdf/CRIM_Model_0011.pdf</td>\n",
       "    </tr>\n",
       "    <tr>\n",
       "      <td>6</td>\n",
       "      <td>7</td>\n",
       "      <td>Fuga</td>\n",
       "      <td>8-</td>\n",
       "      <td>M9</td>\n",
       "      <td>5-9/1,1,1-2,2,2/@3,@1-4,@1-2+@4,@1-4,@1-2</td>\n",
       "      <td>https://crimproject.org/mei/CRIM_Model_0011.mei</td>\n",
       "      <td>https://crimproject.org/pdf/CRIM_Model_0011.pdf</td>\n",
       "    </tr>\n",
       "    <tr>\n",
       "      <td>7</td>\n",
       "      <td>8</td>\n",
       "      <td>Fuga</td>\n",
       "      <td>5-</td>\n",
       "      <td>M5</td>\n",
       "      <td>5-10/1,1+4,1+4,1+4,1+4,4/@3,@1-4+@4,@1-4.5+@1-...</td>\n",
       "      <td>https://crimproject.org/mei/CRIM_Mass_0009_3.mei</td>\n",
       "      <td>https://crimproject.org/pdf/CRIM_Mass_0009_3.pdf</td>\n",
       "    </tr>\n",
       "  </tbody>\n",
       "</table>\n",
       "</div>"
      ],
      "text/plain": [
       "   id musical type int tint  \\\n",
       "0   1         Fuga  4-   B2   \n",
       "1   2         Fuga  4-   B2   \n",
       "2   3         Fuga  8-   B2   \n",
       "3   4         Fuga  5-   B1   \n",
       "4   5         Fuga  8-   B2   \n",
       "6   7         Fuga  8-   M9   \n",
       "7   8         Fuga  5-   M5   \n",
       "\n",
       "                                                 ema  \\\n",
       "0  1-6/1,1,1-2,1-2,2,2/@1,@1-3,@1-3+@1,@1-3+@1-3,...   \n",
       "1  1-6/1,1,1+3,1+3,3,3/@1-4,@1-3,@1-3+@1-4,@1-3+@...   \n",
       "2          5-9/1,1,1-2,2,2/@3,@1-4,@1-2+@4,@1-4,@1-2   \n",
       "3              5-8/1,1+4,1+4,4/@3,@1-4+@4,@1+@1-3,@1   \n",
       "4  5-9,14-18/1,1,1-2,1-2,1-2,3,3,3-4,3-4,3-4/@3,@...   \n",
       "6          5-9/1,1,1-2,2,2/@3,@1-4,@1-2+@4,@1-4,@1-2   \n",
       "7  5-10/1,1+4,1+4,1+4,1+4,4/@3,@1-4+@4,@1-4.5+@1-...   \n",
       "\n",
       "                                                mei  \\\n",
       "0   https://crimproject.org/mei/CRIM_Model_0011.mei   \n",
       "1  https://crimproject.org/mei/CRIM_Mass_0009_3.mei   \n",
       "2   https://crimproject.org/mei/CRIM_Model_0011.mei   \n",
       "3  https://crimproject.org/mei/CRIM_Mass_0009_3.mei   \n",
       "4   https://crimproject.org/mei/CRIM_Model_0011.mei   \n",
       "6   https://crimproject.org/mei/CRIM_Model_0011.mei   \n",
       "7  https://crimproject.org/mei/CRIM_Mass_0009_3.mei   \n",
       "\n",
       "                                                pdf  \n",
       "0   https://crimproject.org/pdf/CRIM_Model_0011.pdf  \n",
       "1  https://crimproject.org/pdf/CRIM_Mass_0009_3.pdf  \n",
       "2   https://crimproject.org/pdf/CRIM_Model_0011.pdf  \n",
       "3  https://crimproject.org/pdf/CRIM_Mass_0009_3.pdf  \n",
       "4   https://crimproject.org/pdf/CRIM_Model_0011.pdf  \n",
       "6   https://crimproject.org/pdf/CRIM_Model_0011.pdf  \n",
       "7  https://crimproject.org/pdf/CRIM_Mass_0009_3.pdf  "
      ]
     },
     "execution_count": 46,
     "metadata": {},
     "output_type": "execute_result"
    }
   ],
   "source": [
    "DF_output[Filter_by_Type]"
   ]
  }
 ],
 "metadata": {
  "kernelspec": {
   "display_name": "Python 3",
   "language": "python",
   "name": "python3"
  },
  "language_info": {
   "codemirror_mode": {
    "name": "ipython",
    "version": 3
   },
   "file_extension": ".py",
   "mimetype": "text/x-python",
   "name": "python",
   "nbconvert_exporter": "python",
   "pygments_lexer": "ipython3",
   "version": "3.7.4"
  }
 },
 "nbformat": 4,
 "nbformat_minor": 2
}
